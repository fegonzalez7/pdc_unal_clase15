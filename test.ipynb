{
 "cells": [
  {
   "cell_type": "code",
   "execution_count": 1,
   "metadata": {},
   "outputs": [
    {
     "name": "stdout",
     "output_type": "stream",
     "text": [
      "6\n"
     ]
    }
   ],
   "source": [
    "A = [[1, 2, 3], [4, 5, 6], [7, 8, 9]]\n",
    "print(A[1][2]) "
   ]
  },
  {
   "cell_type": "code",
   "execution_count": 2,
   "metadata": {},
   "outputs": [
    {
     "name": "stdout",
     "output_type": "stream",
     "text": [
      "1\n",
      "2\n",
      "3\n",
      "4\n",
      "5\n",
      "6\n",
      "7\n",
      "8\n",
      "9\n"
     ]
    }
   ],
   "source": [
    "A = [[1, 2, 3], [4, 5, 6], [7, 8, 9]]\n",
    "for i in range(len(A)):\n",
    "  for j in range(len(A[i])):\n",
    "    print(A[i][j])"
   ]
  },
  {
   "cell_type": "code",
   "execution_count": 3,
   "metadata": {},
   "outputs": [
    {
     "name": "stdout",
     "output_type": "stream",
     "text": [
      "[[1, 4, 9], [16, 25, 36], [49, 64, 81]]\n"
     ]
    }
   ],
   "source": [
    "B = [[1, 2, 3], [4, 5, 6], [7, 8, 9]]\n",
    "for i in range(len(B)): # Recorre filas\n",
    "  for j in range(len(B[i])): # Recorre cada elemento de la fila\n",
    "    B[i][j] *= B[i][j]\n",
    "print(B) "
   ]
  },
  {
   "cell_type": "code",
   "execution_count": 4,
   "metadata": {},
   "outputs": [
    {
     "name": "stdout",
     "output_type": "stream",
     "text": [
      "[[1, 4, 9], [16, 25, 36], [49, 64, 81]]\n"
     ]
    }
   ],
   "source": [
    "fils = []\n",
    "B = []\n",
    "num :  int = 1\n",
    "for i in range(3): # Recorre filas\n",
    "  for j in range(3): # Recorre cada elemento de la fila\n",
    "    fils.append(num**2)\n",
    "    num += 1\n",
    "  B.append(fils)\n",
    "  fils = []  \n",
    "print(B) "
   ]
  },
  {
   "cell_type": "code",
   "execution_count": 5,
   "metadata": {},
   "outputs": [
    {
     "name": "stdout",
     "output_type": "stream",
     "text": [
      "[1, 4, 9]\n",
      "[16, 25, 36]\n",
      "[49, 64, 81]\n"
     ]
    }
   ],
   "source": [
    "C = [[1, 4, 9], [16, 25, 36], [49, 64, 81]]\n",
    "for i in range(len(C)):\n",
    "  print(C[i])"
   ]
  },
  {
   "cell_type": "code",
   "execution_count": 6,
   "metadata": {},
   "outputs": [
    {
     "name": "stdout",
     "output_type": "stream",
     "text": [
      "[1, 1, 1, 1, 1, 1, 1, 1, 1]\n"
     ]
    }
   ],
   "source": [
    "print([1, 1, 1]*3)\n"
   ]
  },
  {
   "cell_type": "code",
   "execution_count": 7,
   "metadata": {},
   "outputs": [
    {
     "name": "stdout",
     "output_type": "stream",
     "text": [
      "[1, 1, 1, 1, 1, 1]\n",
      "[1, 1, 1, 1, 1, 1]\n",
      "[1, 1, 1, 1, 1, 1]\n",
      "[1, 1, 1, 1, 1, 1]\n"
     ]
    }
   ],
   "source": [
    "def imprimirMatriz(mat):\n",
    "  for i in range(len(mat)): print(mat[i])\n",
    "\n",
    "if __name__ == \"__main__\":\n",
    "  nFilas = int(input(\"Ingrese filas: \"))\n",
    "  nCols = int(input(\"Ingrese columnas: \"))\n",
    "  ones = []\n",
    "  for i in range(nFilas):\n",
    "    ones.append([1]*nCols)\n",
    "imprimirMatriz(ones)\n"
   ]
  },
  {
   "cell_type": "code",
   "execution_count": 8,
   "metadata": {},
   "outputs": [
    {
     "name": "stdout",
     "output_type": "stream",
     "text": [
      "[1, 0, 0]\n",
      "[0, 1, 0]\n",
      "[0, 0, 1]\n"
     ]
    }
   ],
   "source": [
    "def imprimirMatriz(mat):\n",
    "  for i in range(len(mat)): print(mat[i])\n",
    "\n",
    "if __name__ == \"__main__\":\n",
    "  rango = int(input(\"Ingrese rango: \"))\n",
    "  unit = []\n",
    "  filas = []\n",
    "  for i in range(rango):\n",
    "    for j in range(rango):\n",
    "      if i == j : filas.append(1)\n",
    "      else: filas.append(0)\n",
    "    unit.append(filas)\n",
    "    filas = []\n",
    "\n",
    "imprimirMatriz(unit)"
   ]
  }
 ],
 "metadata": {
  "kernelspec": {
   "display_name": "Python 3.10.10 64-bit",
   "language": "python",
   "name": "python3"
  },
  "language_info": {
   "codemirror_mode": {
    "name": "ipython",
    "version": 3
   },
   "file_extension": ".py",
   "mimetype": "text/x-python",
   "name": "python",
   "nbconvert_exporter": "python",
   "pygments_lexer": "ipython3",
   "version": "3.10.10"
  },
  "orig_nbformat": 4,
  "vscode": {
   "interpreter": {
    "hash": "26de051ba29f2982a8de78e945f0abaf191376122a1563185a90213a26c5da77"
   }
  }
 },
 "nbformat": 4,
 "nbformat_minor": 2
}
